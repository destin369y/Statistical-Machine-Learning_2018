{
 "cells": [
  {
   "cell_type": "markdown",
   "metadata": {},
   "source": [
    "## Homework 1\n",
    "## Extra Credit: Building regularized models for Boston data set \n",
    "Perform a bias variance analysis of the Boston housing data set with the thirteen predictors, following the steps on the simple data set above. Use sklearn's built-in functions to split the data into training, validation and test sets. What is the lowest achievable error on the test set with  λ=0 ? Select the best value for  λ  and report the test set error with the best  λ . Use the technique of adding features to extend each column of the Boston data set with powers of the values in the column. Repeat the bias-variance analysis with quadratic and cubic features. What is the test set error with quadratic features with the best  λ  chosen with the validation set? What is the test set error with cubic features with the best  λ  chosen with the validation set? Put your analysis code in a separate Python script or notebook called bostonexpt.py or bostonexpt.ipynb. Present your results analytically with plots to support your findings. Discuss the impact of regularization for building good models for the Boston housing data set."
   ]
  },
  {
   "cell_type": "markdown",
   "metadata": {},
   "source": [
    "## Split the data into training, validation and test sets\n",
    "\n",
    "This dataset is divided into three parts:\n",
    "- A training set that you will use to learn the model:  X,  y.\n",
    "- A validation set for determining the regularization parameter: Xval, yval.\n",
    "- A test set for evaluating the performance of your model:  Xtest, ytest. These are unseen examples that were not used during the training of the model.\n"
   ]
  },
  {
   "cell_type": "code",
   "execution_count": 1,
   "metadata": {},
   "outputs": [
    {
     "name": "stdout",
     "output_type": "stream",
     "text": [
      "Loading Data...\n",
      "Done\n"
     ]
    }
   ],
   "source": [
    "import numpy as np\n",
    "import matplotlib.pyplot as plt\n",
    "import plot_utils\n",
    "import pandas as pd\n",
    "import utils\n",
    "from reg_linear_regressor_multi import RegularizedLinearReg_SquaredLoss\n",
    "from sklearn.datasets import load_boston\n",
    "from sklearn.model_selection import train_test_split\n",
    "\n",
    "# Load Data\n",
    "print 'Loading Data...'\n",
    "bdata = load_boston()\n",
    "df = pd.DataFrame(data = bdata.data, columns = bdata.feature_names)\n",
    "df\n",
    "X = df.values\n",
    "y = bdata.target\n",
    "\n",
    "X_trainA, X_test, y_trainA, y_test = train_test_split(X, y, test_size=0.2)\n",
    "X_train, X_val, y_train, y_val = train_test_split(X_trainA, y_trainA, test_size=0.2)\n",
    "\n",
    "# scale the features (use zero mean scaling)\n",
    "X_train0,mu,sigma = utils.feature_normalize(X_train)\n",
    "# add intercept term to X_train0\n",
    "XX_train0 = np.vstack([np.ones((X_train0.shape[0],)),X_train0.T]).T\n",
    "\n",
    "# normalize test and val sets with the same mu and sigma\n",
    "X_test0 = (X_test - mu) / sigma\n",
    "X_val0 = (X_val - mu) / sigma\n",
    "# add a column of ones to both X_test0 and X_val0\n",
    "XX_test0 = np.vstack([np.ones((X_test0.shape[0],)),X_test0.T]).T\n",
    "XX_val0 = np.vstack([np.ones((X_val0.shape[0],)),X_val0.T]).T\n",
    "\n",
    "print 'Done'"
   ]
  },
  {
   "cell_type": "markdown",
   "metadata": {},
   "source": [
    "## What is the lowest achievable error on the test set with λ=0 ?"
   ]
  },
  {
   "cell_type": "code",
   "execution_count": 3,
   "metadata": {},
   "outputs": [
    {
     "name": "stdout",
     "output_type": "stream",
     "text": [
      "Optimization terminated successfully.\n",
      "         Current function value: 11.117614\n",
      "         Iterations: 24\n",
      "         Function evaluations: 25\n",
      "         Gradient evaluations: 25\n",
      "Theta at lambda = 0 is  [ 22.8739944   -1.13695415   1.08414844   0.47628448   0.44780875\n",
      "  -2.12384414   2.82026183   0.27197241  -2.99237082   2.73418302\n",
      "  -2.35654313  -2.30349837   0.7398102   -3.73005315]\n",
      "error on the test set with λ = 0 is:  7.1329151548\n"
     ]
    }
   ],
   "source": [
    "# Train linear regression with lambda = 0\n",
    "rlr1 = RegularizedLinearReg_SquaredLoss()\n",
    "theta_opt0 = rlr1.train(XX_train0, y_train, reg=0.0, num_iters=1000)\n",
    "print 'Theta at lambda = 0 is ', theta_opt0\n",
    "\n",
    "# error on the test\n",
    "error_test = rlr1.loss(theta_opt0, XX_test0, y_test, 0)\n",
    "print 'error on the test set with λ = 0 is: ', error_test"
   ]
  },
  {
   "cell_type": "markdown",
   "metadata": {},
   "source": [
    "## Select the best value for λ and report the test set error with the best λ ."
   ]
  },
  {
   "cell_type": "code",
   "execution_count": 4,
   "metadata": {
    "scrolled": true
   },
   "outputs": [
    {
     "name": "stdout",
     "output_type": "stream",
     "text": [
      "Optimization terminated successfully.\n",
      "         Current function value: 11.117614\n",
      "         Iterations: 24\n",
      "         Function evaluations: 25\n",
      "         Gradient evaluations: 25\n",
      "Optimization terminated successfully.\n",
      "         Current function value: 11.117703\n",
      "         Iterations: 24\n",
      "         Function evaluations: 25\n",
      "         Gradient evaluations: 25\n",
      "Optimization terminated successfully.\n",
      "         Current function value: 11.117880\n",
      "         Iterations: 24\n",
      "         Function evaluations: 25\n",
      "         Gradient evaluations: 25\n",
      "Optimization terminated successfully.\n",
      "         Current function value: 11.118499\n",
      "         Iterations: 24\n",
      "         Function evaluations: 25\n",
      "         Gradient evaluations: 25\n",
      "Optimization terminated successfully.\n",
      "         Current function value: 11.120268\n",
      "         Iterations: 24\n",
      "         Function evaluations: 25\n",
      "         Gradient evaluations: 25\n",
      "Optimization terminated successfully.\n",
      "         Current function value: 11.126450\n",
      "         Iterations: 24\n",
      "         Function evaluations: 25\n",
      "         Gradient evaluations: 25\n",
      "Optimization terminated successfully.\n",
      "         Current function value: 11.144025\n",
      "         Iterations: 24\n",
      "         Function evaluations: 25\n",
      "         Gradient evaluations: 25\n",
      "Optimization terminated successfully.\n",
      "         Current function value: 11.204563\n",
      "         Iterations: 24\n",
      "         Function evaluations: 25\n",
      "         Gradient evaluations: 25\n",
      "Optimization terminated successfully.\n",
      "         Current function value: 11.370067\n",
      "         Iterations: 24\n",
      "         Function evaluations: 25\n",
      "         Gradient evaluations: 25\n",
      "Optimization terminated successfully.\n",
      "         Current function value: 11.885691\n",
      "         Iterations: 23\n",
      "         Function evaluations: 24\n",
      "         Gradient evaluations: 24\n",
      "[0, 0.001, 0.003, 0.01, 0.03, 0.1, 0.3, 1, 3, 10]\n"
     ]
    },
    {
     "data": {
      "image/png": "[encoded data removed]",
      "text/plain": [
       "<matplotlib.figure.Figure at 0x66d0710>"
      ]
     },
     "metadata": {},
     "output_type": "display_data"
    }
   ],
   "source": [
    "# train the model using different values of  λ  and compute the training error and validation error. \n",
    "# try λ in the following range: {0, 0.001, 0.003, 0.01, 0.03, 0.1, 0.3, 1, 3, 10}.\n",
    "reg_vec, error_train, error_val = utils.validation_curve(XX_train0,y_train,XX_val0,y_val)\n",
    "print reg_vec\n",
    "plot_utils.plot_lambda_selection(reg_vec,error_train,error_val)\n",
    "plt.show()\n"
   ]
  },
  {
   "cell_type": "code",
   "execution_count": 5,
   "metadata": {},
   "outputs": [
    {
     "name": "stdout",
     "output_type": "stream",
     "text": [
      "Optimization terminated successfully.\n",
      "         Current function value: 11.117614\n",
      "         Iterations: 24\n",
      "         Function evaluations: 25\n",
      "         Gradient evaluations: 25\n",
      "Theta at lambda = 0 is  [ 22.8739944   -1.13695415   1.08414844   0.47628448   0.44780875\n",
      "  -2.12384414   2.82026183   0.27197241  -2.99237082   2.73418302\n",
      "  -2.35654313  -2.30349837   0.7398102   -3.73005315]\n",
      "error on the test set with λ = 0 is:  7.1329151548\n"
     ]
    }
   ],
   "source": [
    "# the best λ on the validation set is 0\n",
    "# Train linear regression with lambda = 0\n",
    "reg = 0\n",
    "rlr2 = RegularizedLinearReg_SquaredLoss()\n",
    "theta_opt2= rlr2.train(XX_train0, y_train, reg=reg, num_iters=1000)\n",
    "print 'Theta at lambda = 0 is ', theta_opt2\n",
    "\n",
    "# error on the test\n",
    "error_test = rlr1.loss(theta_opt2, XX_test0, y_test, 0)\n",
    "print 'error on the test set with λ = 0 is: ', error_test"
   ]
  },
  {
   "cell_type": "markdown",
   "metadata": {},
   "source": [
    "## Polynomial regression\n",
    "Use the technique of adding features to extend each column of the Boston data set with powers of the values in the column. Repeat the bias-variance analysis with quadratic and cubic features. What is the test set error with quadratic features with the best λ chosen with the validation set? What is the test set error with cubic features with the best λ chosen with the validation set?"
   ]
  },
  {
   "cell_type": "markdown",
   "metadata": {},
   "source": [
    "## Quadratic"
   ]
  },
  {
   "cell_type": "code",
   "execution_count": 6,
   "metadata": {},
   "outputs": [
    {
     "name": "stdout",
     "output_type": "stream",
     "text": [
      "Quadratic features...\n",
      "Done\n"
     ]
    }
   ],
   "source": [
    "from utils import feature_normalize\n",
    "import sklearn\n",
    "from sklearn.preprocessing import PolynomialFeatures\n",
    "\n",
    "# Map X onto polynomial features and normalize\n",
    "# We will consider quadratic features.\n",
    "p = 2\n",
    "print 'Quadratic features...'\n",
    "poly = sklearn.preprocessing.PolynomialFeatures(degree=p,include_bias=False)\n",
    "X_poly_train = poly.fit_transform(X_train)\n",
    "# scale the features (use zero mean scaling)\n",
    "X_train1,mu,sigma = utils.feature_normalize(X_poly_train)\n",
    "# add intercept term to X_train1\n",
    "XX_train1 = np.vstack([np.ones((X_train1.shape[0],)),X_train1.T]).T\n",
    "\n",
    "# map X_test and X_val into the same polynomial features\n",
    "X_poly_test = poly.fit_transform(X_test)\n",
    "X_poly_val = poly.fit_transform(X_val)\n",
    "# normalize test and val sets with the same mu and sigma\n",
    "X_test1 = (X_poly_test - mu) / sigma\n",
    "X_val1 = (X_poly_val - mu) / sigma\n",
    "# add a column of ones to both X_test1 and X_val1\n",
    "XX_test1 = np.vstack([np.ones((X_test1.shape[0],)),X_test1.T]).T\n",
    "XX_val1 = np.vstack([np.ones((X_val1.shape[0],)),X_val1.T]).T\n",
    "print 'Done'"
   ]
  },
  {
   "cell_type": "markdown",
   "metadata": {},
   "source": [
    "## Quadratic: Select the best value for λ and report the test set error with the best λ .\n",
    "What is the test set error with quadratic features with the best λ chosen with the validation set?"
   ]
  },
  {
   "cell_type": "code",
   "execution_count": 7,
   "metadata": {},
   "outputs": [
    {
     "name": "stdout",
     "output_type": "stream",
     "text": [
      "Optimization terminated successfully.\n",
      "         Current function value: 2.456301\n",
      "         Iterations: 788\n",
      "         Function evaluations: 794\n",
      "         Gradient evaluations: 794\n",
      "Optimization terminated successfully.\n",
      "         Current function value: 2.496648\n",
      "         Iterations: 752\n",
      "         Function evaluations: 758\n",
      "         Gradient evaluations: 758\n",
      "Optimization terminated successfully.\n",
      "         Current function value: 2.539250\n",
      "         Iterations: 657\n",
      "         Function evaluations: 663\n",
      "         Gradient evaluations: 663\n",
      "Optimization terminated successfully.\n",
      "         Current function value: 2.635311\n",
      "         Iterations: 535\n",
      "         Function evaluations: 541\n",
      "         Gradient evaluations: 541\n",
      "Optimization terminated successfully.\n",
      "         Current function value: 2.801222\n",
      "         Iterations: 394\n",
      "         Function evaluations: 400\n",
      "         Gradient evaluations: 400\n",
      "Optimization terminated successfully.\n",
      "         Current function value: 3.102222\n",
      "         Iterations: 277\n",
      "         Function evaluations: 283\n",
      "         Gradient evaluations: 283\n",
      "Optimization terminated successfully.\n",
      "         Current function value: 3.524316\n",
      "         Iterations: 194\n",
      "         Function evaluations: 200\n",
      "         Gradient evaluations: 200\n",
      "Optimization terminated successfully.\n",
      "         Current function value: 4.238090\n",
      "         Iterations: 131\n",
      "         Function evaluations: 137\n",
      "         Gradient evaluations: 137\n",
      "Optimization terminated successfully.\n",
      "         Current function value: 5.227679\n",
      "         Iterations: 88\n",
      "         Function evaluations: 94\n",
      "         Gradient evaluations: 94\n",
      "Optimization terminated successfully.\n",
      "         Current function value: 6.798629\n",
      "         Iterations: 53\n",
      "         Function evaluations: 59\n",
      "         Gradient evaluations: 59\n",
      "[0, 0.001, 0.003, 0.01, 0.03, 0.1, 0.3, 1, 3, 10]\n"
     ]
    },
    {
     "data": {
      "image/png": "[encoded data removed]",
      "text/plain": [
       "<matplotlib.figure.Figure at 0xdaf3358>"
      ]
     },
     "metadata": {},
     "output_type": "display_data"
    }
   ],
   "source": [
    "# train the model using different values of  λ  and compute the training error and validation error. \n",
    "# try λ in the following range: {0, 0.001, 0.003, 0.01, 0.03, 0.1, 0.3, 1, 3, 10}.\n",
    "reg_vec, error_train, error_val = utils.validation_curve(XX_train1,y_train,XX_val1,y_val)\n",
    "print reg_vec\n",
    "plot_utils.plot_lambda_selection(reg_vec,error_train,error_val)\n",
    "plt.show()"
   ]
  },
  {
   "cell_type": "code",
   "execution_count": 8,
   "metadata": {},
   "outputs": [
    {
     "name": "stdout",
     "output_type": "stream",
     "text": [
      "Optimization terminated successfully.\n",
      "         Current function value: 3.524316\n",
      "         Iterations: 194\n",
      "         Function evaluations: 200\n",
      "         Gradient evaluations: 200\n",
      "error on the test set with λ = 0.3  is:  6.22595500666\n"
     ]
    }
   ],
   "source": [
    "# the best λ on the validation set is 0.1\n",
    "# Train linear regression with lambda = 0.1\n",
    "reg = 0.3\n",
    "rlr3 = RegularizedLinearReg_SquaredLoss()\n",
    "theta_opt3= rlr3.train(XX_train1, y_train, reg=reg, num_iters=1000)\n",
    "\n",
    "# error on the test\n",
    "error_test = rlr3.loss(theta_opt3, XX_test1, y_test, 0)\n",
    "print 'error on the test set with λ =', reg, ' is: ', error_test"
   ]
  },
  {
   "cell_type": "markdown",
   "metadata": {},
   "source": [
    "## Cubic"
   ]
  },
  {
   "cell_type": "code",
   "execution_count": 9,
   "metadata": {},
   "outputs": [
    {
     "name": "stdout",
     "output_type": "stream",
     "text": [
      "Cubic features...\n",
      "Done\n"
     ]
    }
   ],
   "source": [
    "# Map X onto polynomial features and normalize\n",
    "# We will consider cubic features.\n",
    "p = 3\n",
    "print 'Cubic features...'\n",
    "poly = sklearn.preprocessing.PolynomialFeatures(degree=p,include_bias=False)\n",
    "X_poly_train = poly.fit_transform(X_train)\n",
    "# scale the features (use zero mean scaling)\n",
    "X_train2,mu,sigma = utils.feature_normalize(X_poly_train)\n",
    "# add intercept term to X_train1\n",
    "XX_train2 = np.vstack([np.ones((X_train2.shape[0],)),X_train2.T]).T\n",
    "\n",
    "# map X_test and X_val into the same polynomial features\n",
    "X_poly_test = poly.fit_transform(X_test)\n",
    "X_poly_val = poly.fit_transform(X_val)\n",
    "# normalize test and val sets with the same mu and sigma\n",
    "X_test2 = (X_poly_test - mu) / sigma\n",
    "X_val2 = (X_poly_val - mu) / sigma\n",
    "# add a column of ones to both X_test1 and X_val1\n",
    "XX_test2 = np.vstack([np.ones((X_test2.shape[0],)),X_test2.T]).T\n",
    "XX_val2 = np.vstack([np.ones((X_val2.shape[0],)),X_val2.T]).T\n",
    "print 'Done'"
   ]
  },
  {
   "cell_type": "markdown",
   "metadata": {},
   "source": [
    "## Cubic: Select the best value for λ and report the test set error with the best λ .\n",
    "What is the test set error with cubic features with the best λ chosen with the validation set?"
   ]
  },
  {
   "cell_type": "code",
   "execution_count": 11,
   "metadata": {},
   "outputs": [
    {
     "name": "stdout",
     "output_type": "stream",
     "text": [
      "Optimization terminated successfully.\n",
      "         Current function value: 0.024166\n",
      "         Iterations: 2478\n",
      "         Function evaluations: 2490\n",
      "         Gradient evaluations: 2490\n",
      "Optimization terminated successfully.\n",
      "         Current function value: 0.482055\n",
      "         Iterations: 1158\n",
      "         Function evaluations: 1169\n",
      "         Gradient evaluations: 1169\n",
      "Optimization terminated successfully.\n",
      "         Current function value: 0.657783\n",
      "         Iterations: 939\n",
      "         Function evaluations: 950\n",
      "         Gradient evaluations: 950\n",
      "Optimization terminated successfully.\n",
      "         Current function value: 0.897466\n",
      "         Iterations: 702\n",
      "         Function evaluations: 713\n",
      "         Gradient evaluations: 713\n",
      "Optimization terminated successfully.\n",
      "         Current function value: 1.163441\n",
      "         Iterations: 515\n",
      "         Function evaluations: 526\n",
      "         Gradient evaluations: 526\n",
      "Optimization terminated successfully.\n",
      "         Current function value: 1.505248\n",
      "         Iterations: 335\n",
      "         Function evaluations: 346\n",
      "         Gradient evaluations: 346\n",
      "Optimization terminated successfully.\n",
      "         Current function value: 1.885810\n",
      "         Iterations: 225\n",
      "         Function evaluations: 236\n",
      "         Gradient evaluations: 236\n",
      "Optimization terminated successfully.\n",
      "         Current function value: 2.438068\n",
      "         Iterations: 147\n",
      "         Function evaluations: 158\n",
      "         Gradient evaluations: 158\n",
      "Optimization terminated successfully.\n",
      "         Current function value: 3.113878\n",
      "         Iterations: 97\n",
      "         Function evaluations: 108\n",
      "         Gradient evaluations: 108\n",
      "Optimization terminated successfully.\n",
      "         Current function value: 4.125034\n",
      "         Iterations: 61\n",
      "         Function evaluations: 72\n",
      "         Gradient evaluations: 72\n",
      "[0, 0.001, 0.003, 0.01, 0.03, 0.1, 0.3, 1, 3, 10]\n"
     ]
    },
    {
     "data": {
      "image/png": "[encoded data removed]",
      "text/plain": [
       "<matplotlib.figure.Figure at 0xde4dc50>"
      ]
     },
     "metadata": {},
     "output_type": "display_data"
    },
    {
     "data": {
      "image/png": "[encoded data removed]",
      "text/plain": [
       "<matplotlib.figure.Figure at 0xde4da20>"
      ]
     },
     "metadata": {},
     "output_type": "display_data"
    }
   ],
   "source": [
    "# train the model using different values of  λ  and compute the training error and validation error. \n",
    "# try λ in the following range: {0, 0.001, 0.003, 0.01, 0.03, 0.1, 0.3, 1, 3, 10}.\n",
    "reg_vec, error_train, error_val = utils.validation_curve(XX_train2,y_train,XX_val2,y_val)\n",
    "print reg_vec\n",
    "plot_utils.plot_lambda_selection(reg_vec,error_train,error_val)\n",
    "plt.ylim(ymax = 100)\n",
    "plt.show()"
   ]
  },
  {
   "cell_type": "code",
   "execution_count": 16,
   "metadata": {},
   "outputs": [
    {
     "name": "stdout",
     "output_type": "stream",
     "text": [
      "Optimization terminated successfully.\n",
      "         Current function value: 2.438068\n",
      "         Iterations: 147\n",
      "         Function evaluations: 158\n",
      "         Gradient evaluations: 158\n",
      "error on the test set with λ = 1  is:  4.83142660031\n"
     ]
    }
   ],
   "source": [
    "# the best λ on the validation set is 1\n",
    "# Train linear regression with lambda = 1\n",
    "reg = 1\n",
    "rlr4 = RegularizedLinearReg_SquaredLoss()\n",
    "theta_opt4= rlr4.train(XX_train2, y_train, reg=reg, num_iters=10000)\n",
    "\n",
    "# error on the test\n",
    "error_test = rlr4.loss(theta_opt4, XX_test2, y_test, 0)\n",
    "print 'error on the test set with λ =', reg, ' is: ', error_test"
   ]
  }
 ],
 "metadata": {
  "anaconda-cloud": {},
  "kernelspec": {
   "display_name": "Python 2",
   "language": "python",
   "name": "python2"
  },
  "language_info": {
   "codemirror_mode": {
    "name": "ipython",
    "version": 2
   },
   "file_extension": ".py",
   "mimetype": "text/x-python",
   "name": "python",
   "nbconvert_exporter": "python",
   "pygments_lexer": "ipython2",
   "version": "2.7.14"
  }
 },
 "nbformat": 4,
 "nbformat_minor": 1
}
